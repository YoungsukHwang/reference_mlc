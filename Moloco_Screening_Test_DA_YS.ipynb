{
 "cells": [
  {
   "cell_type": "markdown",
   "metadata": {},
   "source": [
    "# Code"
   ]
  },
  {
   "cell_type": "code",
   "execution_count": null,
   "metadata": {},
   "outputs": [],
   "source": [
    "import pandas as pd"
   ]
  },
  {
   "cell_type": "code",
   "execution_count": 2,
   "metadata": {},
   "outputs": [],
   "source": [
    "# Read data CSV formatted.\n",
    "sheet1 = pd.read_csv(\"Adops & Data Scientist Sample Data - Q1 Analytics.csv\")\n",
    "sheet2 = pd.read_csv(\"Adops & Data Scientist Sample Data - Q2 Regression.csv\", header=None)"
   ]
  },
  {
   "cell_type": "code",
   "execution_count": 4,
   "metadata": {},
   "outputs": [
    {
     "name": "stdout",
     "output_type": "stream",
     "text": [
      "(3553, 4)\n"
     ]
    },
    {
     "data": {
      "text/plain": [
       "1916"
      ]
     },
     "execution_count": 4,
     "metadata": {},
     "output_type": "execute_result"
    }
   ],
   "source": [
    "# We check the shape of the dataset and the number of unique users.\n",
    "print(sheet1.shape)\n",
    "len(sheet1.user_id.unique())"
   ]
  },
  {
   "cell_type": "markdown",
   "metadata": {},
   "source": [
    "#### Q1-1"
   ]
  },
  {
   "cell_type": "markdown",
   "metadata": {},
   "source": [
    "Consider only the rows with country_id = \"BDV\" (there are 844 such rows). For each site_id, we can compute the number of unique user_id's found in these 844 rows. Which site_id has the largest number of unique users? And what's the number?"
   ]
  },
  {
   "cell_type": "code",
   "execution_count": 5,
   "metadata": {},
   "outputs": [],
   "source": [
    "# We extract entries whose country_id is bdv.\n",
    "bdv = sheet1[sheet1['country_id']==\"BDV\"]"
   ]
  },
  {
   "cell_type": "code",
   "execution_count": 6,
   "metadata": {},
   "outputs": [
    {
     "name": "stdout",
     "output_type": "stream",
     "text": [
      "                     ts user_id country_id site_id\n",
      "13  2019-02-01 00:47:58  LC3C22        BDV   N0OTG\n",
      "32  2019-02-01 02:46:15  LC375A        BDV   5NPAU\n",
      "87  2019-02-01 06:44:42  LC392E        BDV   N0OTG\n",
      "88  2019-02-01 07:36:56  LC3FAE        BDV   5NPAU\n",
      "94  2019-02-01 08:58:35  LC3AFF        BDV   3POLC\n",
      "(844, 4)\n"
     ]
    }
   ],
   "source": [
    "print(bdv.head())\n",
    "print(bdv.shape)"
   ]
  },
  {
   "cell_type": "code",
   "execution_count": 10,
   "metadata": {},
   "outputs": [
    {
     "data": {
      "text/html": [
       "<div>\n",
       "<style scoped>\n",
       "    .dataframe tbody tr th:only-of-type {\n",
       "        vertical-align: middle;\n",
       "    }\n",
       "\n",
       "    .dataframe tbody tr th {\n",
       "        vertical-align: top;\n",
       "    }\n",
       "\n",
       "    .dataframe thead th {\n",
       "        text-align: right;\n",
       "    }\n",
       "</style>\n",
       "<table border=\"1\" class=\"dataframe\">\n",
       "  <thead>\n",
       "    <tr style=\"text-align: right;\">\n",
       "      <th></th>\n",
       "      <th>ts</th>\n",
       "      <th>user_id</th>\n",
       "      <th>country_id</th>\n",
       "      <th>site_id</th>\n",
       "    </tr>\n",
       "    <tr>\n",
       "      <th>site_id</th>\n",
       "      <th></th>\n",
       "      <th></th>\n",
       "      <th></th>\n",
       "      <th></th>\n",
       "    </tr>\n",
       "  </thead>\n",
       "  <tbody>\n",
       "    <tr>\n",
       "      <th>3POLC</th>\n",
       "      <td>5</td>\n",
       "      <td>2</td>\n",
       "      <td>1</td>\n",
       "      <td>1</td>\n",
       "    </tr>\n",
       "    <tr>\n",
       "      <th>5NPAU</th>\n",
       "      <td>716</td>\n",
       "      <td>544</td>\n",
       "      <td>1</td>\n",
       "      <td>1</td>\n",
       "    </tr>\n",
       "    <tr>\n",
       "      <th>N0OTG</th>\n",
       "      <td>122</td>\n",
       "      <td>90</td>\n",
       "      <td>1</td>\n",
       "      <td>1</td>\n",
       "    </tr>\n",
       "  </tbody>\n",
       "</table>\n",
       "</div>"
      ],
      "text/plain": [
       "          ts  user_id  country_id  site_id\n",
       "site_id                                   \n",
       "3POLC      5        2           1        1\n",
       "5NPAU    716      544           1        1\n",
       "N0OTG    122       90           1        1"
      ]
     },
     "execution_count": 10,
     "metadata": {},
     "output_type": "execute_result"
    }
   ],
   "source": [
    "# Group bdv by site_id and check unique users.\n",
    "bdv.groupby('site_id').nunique()\n",
    " # bdv.groupby('site_id')['user_id'].nunique()"
   ]
  },
  {
   "cell_type": "code",
   "execution_count": 12,
   "metadata": {},
   "outputs": [
    {
     "data": {
      "text/plain": [
       "country_id  site_id\n",
       "BDV         3POLC        2\n",
       "            5NPAU      544\n",
       "            N0OTG       90\n",
       "HVQ         3POLC       16\n",
       "            GVOFK       59\n",
       "K1R         3POLC        3\n",
       "            N0OTG        2\n",
       "NVV         N0OTG       18\n",
       "QLT         3POLC        3\n",
       "            5NPAU      630\n",
       "            N0OTG       63\n",
       "TL6         3POLC       12\n",
       "            5NPAU        2\n",
       "            EUZ/Q        1\n",
       "            JSUUP        2\n",
       "            N0OTG      430\n",
       "            QGO3G      353\n",
       "            RT9Z6        2\n",
       "XA7         N0OTG       77\n",
       "Name: user_id, dtype: int64"
      ]
     },
     "execution_count": 12,
     "metadata": {},
     "output_type": "execute_result"
    }
   ],
   "source": [
    "# This is a gerenal overview across the countries.\n",
    "sheet1.groupby(['country_id', 'site_id'])['user_id'].nunique()"
   ]
  },
  {
   "cell_type": "markdown",
   "metadata": {},
   "source": [
    "#### Q1-2"
   ]
  },
  {
   "cell_type": "markdown",
   "metadata": {},
   "source": [
    "Between 2019-02-03 00:00:00 and 2019-02-04 23:59:59, there are four users who visited a certain site more than 10 times. Find these four users & which sites they (each) visited more than 10 times. (Simply provides four triples in the form (user_id, site_id, number of visits) in the box below.)"
   ]
  },
  {
   "cell_type": "code",
   "execution_count": 13,
   "metadata": {},
   "outputs": [],
   "source": [
    "# We extract the entries that fall under the timezone of our focus.\n",
    "betweenTime = sheet1[(sheet1.ts>='2019-02-03 00:00:00')&(sheet1.ts<='2019-02-04 23:59:59')]"
   ]
  },
  {
   "cell_type": "code",
   "execution_count": 14,
   "metadata": {},
   "outputs": [],
   "source": [
    "# We group the data by user_id and site_id, and check unique entries.\n",
    "# You may just count the timestamps per user per site.\n",
    "temp = betweenTime.groupby(['user_id','site_id']).nunique()"
   ]
  },
  {
   "cell_type": "code",
   "execution_count": 39,
   "metadata": {},
   "outputs": [],
   "source": [
    "# temp[temp.country_id>1]"
   ]
  },
  {
   "cell_type": "code",
   "execution_count": 40,
   "metadata": {},
   "outputs": [
    {
     "data": {
      "text/html": [
       "<div>\n",
       "<style scoped>\n",
       "    .dataframe tbody tr th:only-of-type {\n",
       "        vertical-align: middle;\n",
       "    }\n",
       "\n",
       "    .dataframe tbody tr th {\n",
       "        vertical-align: top;\n",
       "    }\n",
       "\n",
       "    .dataframe thead th {\n",
       "        text-align: right;\n",
       "    }\n",
       "</style>\n",
       "<table border=\"1\" class=\"dataframe\">\n",
       "  <thead>\n",
       "    <tr style=\"text-align: right;\">\n",
       "      <th></th>\n",
       "      <th></th>\n",
       "      <th>ts</th>\n",
       "      <th>user_id</th>\n",
       "      <th>country_id</th>\n",
       "      <th>site_id</th>\n",
       "    </tr>\n",
       "    <tr>\n",
       "      <th>user_id</th>\n",
       "      <th>site_id</th>\n",
       "      <th></th>\n",
       "      <th></th>\n",
       "      <th></th>\n",
       "      <th></th>\n",
       "    </tr>\n",
       "  </thead>\n",
       "  <tbody>\n",
       "    <tr>\n",
       "      <th>LC06C3</th>\n",
       "      <th>N0OTG</th>\n",
       "      <td>25</td>\n",
       "      <td>1</td>\n",
       "      <td>1</td>\n",
       "      <td>1</td>\n",
       "    </tr>\n",
       "    <tr>\n",
       "      <th>LC3A59</th>\n",
       "      <th>N0OTG</th>\n",
       "      <td>26</td>\n",
       "      <td>1</td>\n",
       "      <td>1</td>\n",
       "      <td>1</td>\n",
       "    </tr>\n",
       "    <tr>\n",
       "      <th>LC3C7E</th>\n",
       "      <th>3POLC</th>\n",
       "      <td>15</td>\n",
       "      <td>1</td>\n",
       "      <td>1</td>\n",
       "      <td>1</td>\n",
       "    </tr>\n",
       "    <tr>\n",
       "      <th>LC3C9D</th>\n",
       "      <th>N0OTG</th>\n",
       "      <td>17</td>\n",
       "      <td>1</td>\n",
       "      <td>1</td>\n",
       "      <td>1</td>\n",
       "    </tr>\n",
       "  </tbody>\n",
       "</table>\n",
       "</div>"
      ],
      "text/plain": [
       "                 ts  user_id  country_id  site_id\n",
       "user_id site_id                                  \n",
       "LC06C3  N0OTG    25        1           1        1\n",
       "LC3A59  N0OTG    26        1           1        1\n",
       "LC3C7E  3POLC    15        1           1        1\n",
       "LC3C9D  N0OTG    17        1           1        1"
      ]
     },
     "execution_count": 40,
     "metadata": {},
     "output_type": "execute_result"
    }
   ],
   "source": [
    "# Retrieve the users who visited a certain website more than ten times.\n",
    "temp[temp.ts>10]"
   ]
  },
  {
   "cell_type": "markdown",
   "metadata": {},
   "source": [
    "#### Q1-3"
   ]
  },
  {
   "cell_type": "markdown",
   "metadata": {},
   "source": [
    "For each site, compute the unique number of users whose last visit (found in the original data set) was to that site. For instance, user \"LC3561\"'s last visit is to \"N0OTG\" based on timestamp data. Based on this measure, what are top three sites? (hint: site \"3POLC\" is ranked at 5th with 28 users whose last visit in the data set was to 3POLC; simply provide three pairs in the form (site_id, number of users).)"
   ]
  },
  {
   "cell_type": "code",
   "execution_count": 41,
   "metadata": {},
   "outputs": [],
   "source": [
    "# sheet1[sheet1.user_id == 'LC3561']\n",
    "# sheet1.loc[sheet1.user_id=='LC3837']\n",
    "# sheet1.groupby('user_id').nunique()"
   ]
  },
  {
   "cell_type": "code",
   "execution_count": 42,
   "metadata": {},
   "outputs": [
    {
     "name": "stdout",
     "output_type": "stream",
     "text": [
      "<class 'pandas.core.groupby.generic.DataFrameGroupBy'>\n"
     ]
    }
   ],
   "source": [
    "# We group the data by users and create a groupby object.\n",
    "users = sheet1.groupby(['user_id'])"
   ]
  },
  {
   "cell_type": "code",
   "execution_count": 45,
   "metadata": {},
   "outputs": [],
   "source": [
    "# This is a time-series data.  The last entry will be the log of the last visit per user.\n",
    "lastVisitPerUser = users.last()"
   ]
  },
  {
   "cell_type": "code",
   "execution_count": 31,
   "metadata": {},
   "outputs": [
    {
     "name": "stdout",
     "output_type": "stream",
     "text": [
      "5NPAU 992\n",
      "N0OTG 561\n",
      "QGO3G 289\n",
      "GVOFK 42\n",
      "3POLC 28\n",
      "JSUUP 1\n",
      "RT9Z6 2\n",
      "EUZ/Q 1\n"
     ]
    }
   ],
   "source": [
    "# For each site, we print the number of the users who visited the website.\n",
    "for site in lastVisitPerUser.site_id.unique():\n",
    "    print(site, len(lastVisitPerUser[lastVisitPerUser.site_id==site]))"
   ]
  },
  {
   "cell_type": "code",
   "execution_count": 46,
   "metadata": {},
   "outputs": [],
   "source": [
    "# This is for a test purpose.\n",
    "# check = sheet1.groupby('user_id').nunique()\n",
    "# check.loc[check.site_id>2]"
   ]
  },
  {
   "cell_type": "markdown",
   "metadata": {},
   "source": [
    "#### Q1-4"
   ]
  },
  {
   "cell_type": "markdown",
   "metadata": {},
   "source": [
    "For each user, determine the first site he/she visited and the last site he/she visited based on the timestamp data. Compute the number of users whose first/last visits are to the same website. What is the number?"
   ]
  },
  {
   "cell_type": "code",
   "execution_count": 47,
   "metadata": {},
   "outputs": [],
   "source": [
    "# We check users' first-visted website and last visited website.\n",
    "same = (users.first().site_id == users.last().site_id)"
   ]
  },
  {
   "cell_type": "code",
   "execution_count": 48,
   "metadata": {},
   "outputs": [
    {
     "data": {
      "text/plain": [
       "user_id\n",
       "LC00C3     True\n",
       "LC01C3     True\n",
       "LC05C3     True\n",
       "LC06C3     True\n",
       "LC07C3     True\n",
       "          ...  \n",
       "LCFC3B     True\n",
       "LCFC3D     True\n",
       "LCFC3E     True\n",
       "LCFEC3    False\n",
       "LCFFC3     True\n",
       "Name: site_id, Length: 1916, dtype: bool"
      ]
     },
     "execution_count": 48,
     "metadata": {},
     "output_type": "execute_result"
    }
   ],
   "source": [
    "same"
   ]
  },
  {
   "cell_type": "code",
   "execution_count": 51,
   "metadata": {},
   "outputs": [
    {
     "data": {
      "text/plain": [
       "user_id\n",
       "LC00C3    True\n",
       "LC01C3    True\n",
       "LC05C3    True\n",
       "LC06C3    True\n",
       "LC07C3    True\n",
       "          ... \n",
       "LCFC38    True\n",
       "LCFC3B    True\n",
       "LCFC3D    True\n",
       "LCFC3E    True\n",
       "LCFFC3    True\n",
       "Name: site_id, Length: 1670, dtype: bool"
      ]
     },
     "execution_count": 51,
     "metadata": {},
     "output_type": "execute_result"
    }
   ],
   "source": [
    "# This shows the unique users whose first-visted and last visited websites are the same.\n",
    "same.loc[same==True]"
   ]
  },
  {
   "cell_type": "code",
   "execution_count": 53,
   "metadata": {},
   "outputs": [],
   "source": [
    "# This is to check the other case.\n",
    "# same.loc[same==False]"
   ]
  },
  {
   "cell_type": "markdown",
   "metadata": {},
   "source": [
    "# Explanation"
   ]
  },
  {
   "cell_type": "markdown",
   "metadata": {},
   "source": [
    "## Q1-1"
   ]
  },
  {
   "cell_type": "markdown",
   "metadata": {},
   "source": [
    "We extract entries whose 'country_id' is \"bdv.\"  And then, we group those entries by 'site_id', and count the number of unique users per site to check the site_id who has the largest number of unique users"
   ]
  },
  {
   "cell_type": "markdown",
   "metadata": {},
   "source": [
    "## Q1-2"
   ]
  },
  {
   "cell_type": "markdown",
   "metadata": {},
   "source": [
    "We first extract the entries that fall under the timezone of our focus. Then, we group the data by 'user_id' and 'site_id.' After that, we can count the number of timestamps per user per site. Finally, we can retrieve the users who visited a certain website more than ten times by filtering the count of 'ts' > 10."
   ]
  },
  {
   "cell_type": "markdown",
   "metadata": {},
   "source": [
    "## Q1-3"
   ]
  },
  {
   "cell_type": "markdown",
   "metadata": {},
   "source": [
    "We group the data by users and create a groupby object. This is a time-series data so the last entry of the object contains the log of the last visit for a user. For each site, we then print the number of the users who visited the website."
   ]
  },
  {
   "cell_type": "markdown",
   "metadata": {},
   "source": [
    "## Q1-4"
   ]
  },
  {
   "cell_type": "markdown",
   "metadata": {},
   "source": [
    "We check users first-visted website using users.first().site_id, based on the same logic of Q1-3. Using the condition users.first().site_id == users.last().site_id, we get a boolean indicator whether users' first-visted website and last visited website are the same. We simply use loc[same==True] to count the incidences of True."
   ]
  },
  {
   "cell_type": "markdown",
   "metadata": {},
   "source": [
    "#### Thank you\n",
    "#### YS"
   ]
  }
 ],
 "metadata": {
  "kernelspec": {
   "display_name": "Python 3",
   "language": "python",
   "name": "python3"
  },
  "language_info": {
   "codemirror_mode": {
    "name": "ipython",
    "version": 3
   },
   "file_extension": ".py",
   "mimetype": "text/x-python",
   "name": "python",
   "nbconvert_exporter": "python",
   "pygments_lexer": "ipython3",
   "version": "3.7.3"
  }
 },
 "nbformat": 4,
 "nbformat_minor": 2
}
